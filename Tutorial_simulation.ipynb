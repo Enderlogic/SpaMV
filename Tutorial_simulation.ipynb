{
 "cells": [
  {
   "cell_type": "markdown",
   "metadata": {},
   "source": [
    "# Tutorial for simulated data\n",
    "This tutorial provides step-by-step instructions for reproducing the simulation results presented in our paper. For each simulated dataset, we generated two modalities: one representing the transcriptome and the other representing the proteome. These datasets include multiple ground truth patterns—some shared between both modalities and others unique to a single modality. The simulated data are then used as input for our algorithm, which produces two types of outputs based on user preference."
   ]
  },
  {
   "cell_type": "markdown",
   "metadata": {},
   "source": "# Domain clustering\n"
  },
  {
   "cell_type": "code",
   "metadata": {
    "jupyter": {
     "is_executing": true
    }
   },
   "source": [
    "# SpaMV results\n",
    "import os\n",
    "import sys\n",
    "import anndata\n",
    "from sklearn.metrics import adjusted_rand_score\n",
    "\n",
    "# Get the current working directory\n",
    "current_dir = os.getcwd()\n",
    "# Add the parent directory to sys.path\n",
    "sys.path.insert(0, os.path.dirname(os.path.dirname(current_dir)))\n",
    "from SpaMV.spamv import SpaMV\n",
    "from SpaMV.utils import clr_normalize_each_cell, mclust\n",
    "import scanpy as sc\n",
    "import matplotlib.pyplot as plt\n",
    "\n",
    "for dataset in ['1_Simulation', '2_Simulation', '3_Simulation']:\n",
    "    data_rna = sc.read_h5ad('Data/' + dataset + '/adata_RNA.h5ad')\n",
    "    data_pro = sc.read_h5ad('Data/' + dataset + '/adata_ADT.h5ad')\n",
    "    omics_names = ['Omics 1', 'Omics 2']\n",
    "    sc.pp.normalize_total(data_rna)\n",
    "    sc.pp.log1p(data_rna)\n",
    "    sc.pp.pca(data_rna, n_comps=50)\n",
    "    data_rna = anndata.AnnData(data_rna.obsm['X_pca'], obs=data_rna.obs, obsm=data_rna.obsm)\n",
    "    data_pro = clr_normalize_each_cell(data_pro)\n",
    "    sc.pp.pca(data_pro, n_comps=50)\n",
    "    data_pro = anndata.AnnData(data_pro.obsm['X_pca'], obs=data_pro.obs, obsm=data_pro.obsm)\n",
    "\n",
    "    # wandb.init(project=dataset)\n",
    "    # wandb.login()\n",
    "    model = SpaMV([data_rna, data_pro], interpretable=False, omics_names=omics_names)\n",
    "    model.train(dataset)\n",
    "    # wandb.finish()\n",
    "\n",
    "    data_rna.obsm['SpaMV'] = model.get_embedding()\n",
    "    mclust(data_rna, n_clusters=10, key='SpaMV')\n",
    "\n",
    "    fig, axes = plt.subplots(1, 2, figsize=(8, 4))  # 1 row, 2 columns\n",
    "\n",
    "    sc.pp.neighbors(data_rna, use_rep='SpaMV')\n",
    "    sc.tl.umap(data_rna)\n",
    "    sc.pl.umap(data_rna, color='SpaMV', ax=axes[0], show=False, legend_loc='none', s=20, title='UMAP')\n",
    "    sc.pl.embedding(data_rna, color='SpaMV', basis='spatial', s=200, show=False, title='SpaMV on {}\\nARI: {:.3f}'.format(dataset, adjusted_rand_score(data_rna.obs['cluster'], data_rna.obs['SpaMV'])), ax=axes[1])\n",
    "    plt.tight_layout()\n",
    "    plt.show()"
   ],
   "outputs": [],
   "execution_count": null
  },
  {
   "cell_type": "markdown",
   "metadata": {},
   "source": [
    "# Interpretable dimension reduction"
   ]
  },
  {
   "cell_type": "code",
   "metadata": {},
   "source": [
    "# SpaMV results\n",
    "import os\n",
    "import sys\n",
    "import numpy as np\n",
    "\n",
    "# Get the current working directory\n",
    "current_dir = os.getcwd()\n",
    "# Add the parent directory to sys.path\n",
    "sys.path.insert(0, os.path.dirname(os.path.dirname(current_dir)))\n",
    "\n",
    "import torch\n",
    "from SpaMV.spamv import SpaMV\n",
    "from SpaMV.utils import clr_normalize_each_cell, plot_embedding_results\n",
    "import scanpy as sc\n",
    "\n",
    "omics_names = ['Omics 1', 'Omics 2']\n",
    "for dataset in ['1_Simulation', '2_Simulation', '3_Simulation']:\n",
    "# for dataset in ['3_Simulation_o']:\n",
    "    print('dataset:', dataset)\n",
    "    data_rna = sc.read_h5ad('Data/' + dataset + '/adata_RNA.h5ad')\n",
    "    sc.pp.normalize_total(data_rna)\n",
    "    sc.pp.log1p(data_rna)\n",
    "    data_pro = sc.read_h5ad('Data/' + dataset + '/adata_ADT.h5ad')\n",
    "    data_pro = clr_normalize_each_cell(data_pro)\n",
    "    # wandb.init(project=dataset + '_interpretable')\n",
    "    # wandb.login()\n",
    "\n",
    "    model = SpaMV([data_rna, data_pro], zs_dim=10, zp_dims=[10, 10], betas=[3, 3], interpretable=True, omics_names=omics_names)\n",
    "    model.train(dataset)\n",
    "    # wandb.finish()\n",
    "\n",
    "    z, w = model.get_embedding_and_feature_by_topic(threshold=.1)\n",
    "    # Define the softmax function\n",
    "    def softmax(x):\n",
    "        e_x = np.exp(x - np.max(x))  # Subtract max for numerical stability\n",
    "        return e_x / e_x.sum()\n",
    "    z = z.apply(lambda row: softmax(row), axis=1)\n",
    "    plot_embedding_results([data_rna, data_pro], omics_names, z, w, save=False, show=True, size=350)\n",
    "    # z.to_csv('../../Results/' + dataset + '/SpaMV_z.csv', index=False)\n",
    "    # w[0].to_csv('../../Results/' + dataset + '/SpaMV_w0.csv')\n",
    "    # w[1].to_csv('../../Results/' + dataset + '/SpaMV_w1.csv')"
   ],
   "outputs": [],
   "execution_count": null
  },
  {
   "cell_type": "code",
   "metadata": {},
   "source": [],
   "outputs": [],
   "execution_count": null
  }
 ],
 "metadata": {
  "kernelspec": {
   "display_name": "SpaMV",
   "language": "python",
   "name": "python3"
  },
  "language_info": {
   "codemirror_mode": {
    "name": "ipython",
    "version": 3
   },
   "file_extension": ".py",
   "mimetype": "text/x-python",
   "name": "python",
   "nbconvert_exporter": "python",
   "pygments_lexer": "ipython3",
   "version": "3.12.11"
  }
 },
 "nbformat": 4,
 "nbformat_minor": 2
}
