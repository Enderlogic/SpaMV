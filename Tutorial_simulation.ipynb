{
 "cells": [
  {
   "cell_type": "markdown",
   "metadata": {},
   "source": [
    "# Tutorial for simulated data\n",
    "This tutorial provides step-by-step instructions for reproducing the simulation results presented in our paper. For each simulated dataset, we generated two modalities: one representing the transcriptome and the other representing the proteome. These datasets include multiple ground truth patterns—some shared between both modalities and others unique to a single modality. The simulated data are then used as input for our algorithm, which produces two types of outputs based on user preference."
   ]
  },
  {
   "cell_type": "code",
   "metadata": {
    "ExecuteTime": {
     "end_time": "2025-07-21T02:37:00.707871Z",
     "start_time": "2025-07-21T02:35:52.152908Z"
    }
   },
   "source": [
    "# SpaMV results\n",
    "import anndata\n",
    "from sklearn.metrics import adjusted_rand_score\n",
    "\n",
    "from SpaMV.spamv import SpaMV\n",
    "from SpaMV.utils import clr_normalize_each_cell, clustering\n",
    "import scanpy as sc\n",
    "import matplotlib.pyplot as plt\n",
    "import wandb\n",
    "\n",
    "for dataset in ['1_Simulation', '2_Simulation', '3_Simulation']:\n",
    "    data_rna = sc.read_h5ad('Data/' + dataset + '/adata_RNA.h5ad')\n",
    "    data_pro = sc.read_h5ad('Data/' + dataset + '/adata_ADT.h5ad')\n",
    "    omics_names = ['Omics 1', 'Omics 2']\n",
    "    sc.pp.normalize_total(data_rna)\n",
    "    sc.pp.log1p(data_rna)\n",
    "    sc.pp.pca(data_rna, n_comps=30)\n",
    "    data_rna = anndata.AnnData(data_rna.obsm['X_pca'], obs=data_rna.obs, obsm=data_rna.obsm)\n",
    "    data_pro = clr_normalize_each_cell(data_pro)\n",
    "    sc.pp.pca(data_pro, n_comps=30)\n",
    "    data_pro = anndata.AnnData(data_pro.obsm['X_pca'], obs=data_pro.obs, obsm=data_pro.obsm)\n",
    "\n",
    "    # wandb.init(project=dataset)\n",
    "    # wandb.login()\n",
    "    # model = SpaMV([data_rna, data_pro], interpretable=False, omics_names=omics_names, max_epochs=400)\n",
    "    # model.train(dataset)\n",
    "    # wandb.finish()\n",
    "\n",
    "    model = SpaMV([data_rna, data_pro], interpretable=False, omics_names=omics_names, max_epochs_stage1=400)\n",
    "    model.train()\n",
    "\n",
    "    data_rna.obsm['SpaMV'] = model.get_embedding()\n",
    "    # data_rna = clustering(data_rna, n_clusters=10, key='SpaMV' ,use_pca=True)\n",
    "    clustering(data_rna, n_clusters=10, key='SpaMV' ,use_pca=True)\n",
    "\n",
    "    fig, axes = plt.subplots(1, 2, figsize=(8, 4))  # 1 row, 2 columns\n",
    "\n",
    "    sc.pp.neighbors(data_rna, use_rep='SpaMV')\n",
    "    sc.tl.umap(data_rna)\n",
    "    sc.pl.umap(data_rna, color='SpaMV', ax=axes[0], show=False, legend_loc='none', s=20, title='UMAP')\n",
    "    sc.pl.embedding(data_rna, color='SpaMV', basis='spatial', s=200, show=False, title='SpaMV on {}\\nARI: {:.3f}'.format(dataset, adjusted_rand_score(data_rna.obs['cluster'], data_rna.obs['SpaMV'])), ax=axes[1])\n",
    "    plt.tight_layout()\n",
    "    plt.show()"
   ],
   "outputs": [
    {
     "name": "stdout",
     "output_type": "stream",
     "text": [
      "cpu\n",
      "Loading data\n"
     ]
    },
    {
     "name": "stderr",
     "output_type": "stream",
     "text": [
      "100%|██████████| 1296/1296 [00:00<00:00, 85039.63it/s]\n",
      "100%|██████████| 1296/1296 [00:00<00:00, 124389.43it/s]\n",
      "Epoch Loss:212.442:  19%|█▉        | 75/400 [01:08<04:55,  1.10it/s]\n"
     ]
    },
    {
     "ename": "KeyboardInterrupt",
     "evalue": "",
     "output_type": "error",
     "traceback": [
      "\u001B[31m---------------------------------------------------------------------------\u001B[39m",
      "\u001B[31mKeyboardInterrupt\u001B[39m                         Traceback (most recent call last)",
      "\u001B[36mCell\u001B[39m\u001B[36m \u001B[39m\u001B[32mIn[4]\u001B[39m\u001B[32m, line 30\u001B[39m\n\u001B[32m     23\u001B[39m \u001B[38;5;66;03m# wandb.init(project=dataset)\u001B[39;00m\n\u001B[32m     24\u001B[39m \u001B[38;5;66;03m# wandb.login()\u001B[39;00m\n\u001B[32m     25\u001B[39m \u001B[38;5;66;03m# model = SpaMV([data_rna, data_pro], interpretable=False, omics_names=omics_names, max_epochs=400)\u001B[39;00m\n\u001B[32m     26\u001B[39m \u001B[38;5;66;03m# model.train(dataset)\u001B[39;00m\n\u001B[32m     27\u001B[39m \u001B[38;5;66;03m# wandb.finish()\u001B[39;00m\n\u001B[32m     29\u001B[39m model = SpaMV([data_rna, data_pro], interpretable=\u001B[38;5;28;01mFalse\u001B[39;00m, omics_names=omics_names, max_epochs_stage1=\u001B[32m400\u001B[39m)\n\u001B[32m---> \u001B[39m\u001B[32m30\u001B[39m \u001B[43mmodel\u001B[49m\u001B[43m.\u001B[49m\u001B[43mtrain\u001B[49m\u001B[43m(\u001B[49m\u001B[43m)\u001B[49m\n\u001B[32m     32\u001B[39m data_rna.obsm[\u001B[33m'\u001B[39m\u001B[33mSpaMV\u001B[39m\u001B[33m'\u001B[39m] = model.get_embedding()\n\u001B[32m     33\u001B[39m \u001B[38;5;66;03m# data_rna = clustering(data_rna, n_clusters=10, key='SpaMV' ,use_pca=True)\u001B[39;00m\n",
      "\u001B[36mFile \u001B[39m\u001B[32m~/Documents/GitHub/SpaMV/SpaMV/spamv.py:264\u001B[39m, in \u001B[36mSpaMV.train\u001B[39m\u001B[34m(self)\u001B[39m\n\u001B[32m    262\u001B[39m optimizer_measurement.zero_grad()\n\u001B[32m    263\u001B[39m measurement_loss = \u001B[38;5;28mself\u001B[39m.get_measurement_loss(batch_data)\n\u001B[32m--> \u001B[39m\u001B[32m264\u001B[39m \u001B[43mmeasurement_loss\u001B[49m\u001B[43m.\u001B[49m\u001B[43mbackward\u001B[49m\u001B[43m(\u001B[49m\u001B[43m)\u001B[49m\n\u001B[32m    265\u001B[39m clip_grad_norm_(\u001B[38;5;28mself\u001B[39m.measurement.parameters(), \u001B[32m5\u001B[39m)\n\u001B[32m    266\u001B[39m optimizer_measurement.step()\n",
      "\u001B[36mFile \u001B[39m\u001B[32m/opt/anaconda3/envs/SpaMV/lib/python3.12/site-packages/torch/_tensor.py:648\u001B[39m, in \u001B[36mTensor.backward\u001B[39m\u001B[34m(self, gradient, retain_graph, create_graph, inputs)\u001B[39m\n\u001B[32m    638\u001B[39m \u001B[38;5;28;01mif\u001B[39;00m has_torch_function_unary(\u001B[38;5;28mself\u001B[39m):\n\u001B[32m    639\u001B[39m     \u001B[38;5;28;01mreturn\u001B[39;00m handle_torch_function(\n\u001B[32m    640\u001B[39m         Tensor.backward,\n\u001B[32m    641\u001B[39m         (\u001B[38;5;28mself\u001B[39m,),\n\u001B[32m   (...)\u001B[39m\u001B[32m    646\u001B[39m         inputs=inputs,\n\u001B[32m    647\u001B[39m     )\n\u001B[32m--> \u001B[39m\u001B[32m648\u001B[39m \u001B[43mtorch\u001B[49m\u001B[43m.\u001B[49m\u001B[43mautograd\u001B[49m\u001B[43m.\u001B[49m\u001B[43mbackward\u001B[49m\u001B[43m(\u001B[49m\n\u001B[32m    649\u001B[39m \u001B[43m    \u001B[49m\u001B[38;5;28;43mself\u001B[39;49m\u001B[43m,\u001B[49m\u001B[43m \u001B[49m\u001B[43mgradient\u001B[49m\u001B[43m,\u001B[49m\u001B[43m \u001B[49m\u001B[43mretain_graph\u001B[49m\u001B[43m,\u001B[49m\u001B[43m \u001B[49m\u001B[43mcreate_graph\u001B[49m\u001B[43m,\u001B[49m\u001B[43m \u001B[49m\u001B[43minputs\u001B[49m\u001B[43m=\u001B[49m\u001B[43minputs\u001B[49m\n\u001B[32m    650\u001B[39m \u001B[43m\u001B[49m\u001B[43m)\u001B[49m\n",
      "\u001B[36mFile \u001B[39m\u001B[32m/opt/anaconda3/envs/SpaMV/lib/python3.12/site-packages/torch/autograd/__init__.py:353\u001B[39m, in \u001B[36mbackward\u001B[39m\u001B[34m(tensors, grad_tensors, retain_graph, create_graph, grad_variables, inputs)\u001B[39m\n\u001B[32m    348\u001B[39m     retain_graph = create_graph\n\u001B[32m    350\u001B[39m \u001B[38;5;66;03m# The reason we repeat the same comment below is that\u001B[39;00m\n\u001B[32m    351\u001B[39m \u001B[38;5;66;03m# some Python versions print out the first line of a multi-line function\u001B[39;00m\n\u001B[32m    352\u001B[39m \u001B[38;5;66;03m# calls in the traceback and some print out the last line\u001B[39;00m\n\u001B[32m--> \u001B[39m\u001B[32m353\u001B[39m \u001B[43m_engine_run_backward\u001B[49m\u001B[43m(\u001B[49m\n\u001B[32m    354\u001B[39m \u001B[43m    \u001B[49m\u001B[43mtensors\u001B[49m\u001B[43m,\u001B[49m\n\u001B[32m    355\u001B[39m \u001B[43m    \u001B[49m\u001B[43mgrad_tensors_\u001B[49m\u001B[43m,\u001B[49m\n\u001B[32m    356\u001B[39m \u001B[43m    \u001B[49m\u001B[43mretain_graph\u001B[49m\u001B[43m,\u001B[49m\n\u001B[32m    357\u001B[39m \u001B[43m    \u001B[49m\u001B[43mcreate_graph\u001B[49m\u001B[43m,\u001B[49m\n\u001B[32m    358\u001B[39m \u001B[43m    \u001B[49m\u001B[43minputs\u001B[49m\u001B[43m,\u001B[49m\n\u001B[32m    359\u001B[39m \u001B[43m    \u001B[49m\u001B[43mallow_unreachable\u001B[49m\u001B[43m=\u001B[49m\u001B[38;5;28;43;01mTrue\u001B[39;49;00m\u001B[43m,\u001B[49m\n\u001B[32m    360\u001B[39m \u001B[43m    \u001B[49m\u001B[43maccumulate_grad\u001B[49m\u001B[43m=\u001B[49m\u001B[38;5;28;43;01mTrue\u001B[39;49;00m\u001B[43m,\u001B[49m\n\u001B[32m    361\u001B[39m \u001B[43m\u001B[49m\u001B[43m)\u001B[49m\n",
      "\u001B[36mFile \u001B[39m\u001B[32m/opt/anaconda3/envs/SpaMV/lib/python3.12/site-packages/torch/autograd/graph.py:824\u001B[39m, in \u001B[36m_engine_run_backward\u001B[39m\u001B[34m(t_outputs, *args, **kwargs)\u001B[39m\n\u001B[32m    822\u001B[39m     unregister_hooks = _register_logging_hooks_on_whole_graph(t_outputs)\n\u001B[32m    823\u001B[39m \u001B[38;5;28;01mtry\u001B[39;00m:\n\u001B[32m--> \u001B[39m\u001B[32m824\u001B[39m     \u001B[38;5;28;01mreturn\u001B[39;00m \u001B[43mVariable\u001B[49m\u001B[43m.\u001B[49m\u001B[43m_execution_engine\u001B[49m\u001B[43m.\u001B[49m\u001B[43mrun_backward\u001B[49m\u001B[43m(\u001B[49m\u001B[43m  \u001B[49m\u001B[38;5;66;43;03m# Calls into the C++ engine to run the backward pass\u001B[39;49;00m\n\u001B[32m    825\u001B[39m \u001B[43m        \u001B[49m\u001B[43mt_outputs\u001B[49m\u001B[43m,\u001B[49m\u001B[43m \u001B[49m\u001B[43m*\u001B[49m\u001B[43margs\u001B[49m\u001B[43m,\u001B[49m\u001B[43m \u001B[49m\u001B[43m*\u001B[49m\u001B[43m*\u001B[49m\u001B[43mkwargs\u001B[49m\n\u001B[32m    826\u001B[39m \u001B[43m    \u001B[49m\u001B[43m)\u001B[49m  \u001B[38;5;66;03m# Calls into the C++ engine to run the backward pass\u001B[39;00m\n\u001B[32m    827\u001B[39m \u001B[38;5;28;01mfinally\u001B[39;00m:\n\u001B[32m    828\u001B[39m     \u001B[38;5;28;01mif\u001B[39;00m attach_logging_hooks:\n",
      "\u001B[31mKeyboardInterrupt\u001B[39m: "
     ]
    }
   ],
   "execution_count": 4
  },
  {
   "cell_type": "markdown",
   "metadata": {},
   "source": [
    "# Interpretable dimension reduction"
   ]
  },
  {
   "cell_type": "code",
   "metadata": {
    "jupyter": {
     "is_executing": true
    },
    "ExecuteTime": {
     "start_time": "2025-07-21T04:33:11.176469Z"
    }
   },
   "source": [
    "import numpy as np\n",
    "\n",
    "from SpaMV_copy.spamv import SpaMV\n",
    "from SpaMV.utils import clr_normalize_each_cell, plot_embedding_results\n",
    "import scanpy as sc\n",
    "import wandb\n",
    "\n",
    "omics_names = ['Transcriptomics', 'Proteomics']\n",
    "for dataset in ['1_Simulation', '2_Simulation', '3_Simulation']:\n",
    "    # for dataset in ['3_Simulation_o']:\n",
    "    print('dataset:', dataset)\n",
    "    data_rna = sc.read_h5ad('Data/' + dataset + '/adata_RNA.h5ad')\n",
    "    sc.pp.normalize_total(data_rna)\n",
    "    sc.pp.log1p(data_rna)\n",
    "    data_pro = sc.read_h5ad('Data/' + dataset + '/adata_ADT.h5ad')\n",
    "    data_pro = clr_normalize_each_cell(data_pro)\n",
    "\n",
    "    wandb.init(project=dataset)\n",
    "    wandb.login()\n",
    "    model = SpaMV([data_rna, data_pro], zs_dim=10, zp_dims=[10, 10], betas=[3, 3], interpretable=True, omics_names=omics_names, threshold_background=5, max_epochs_stage2=200)\n",
    "    model.train(dataset)\n",
    "    wandb.finish()\n",
    "\n",
    "    z, w = model.get_embedding_and_feature_by_topic()\n",
    "    # Define the softmax function\n",
    "    def softmax(x):\n",
    "        e_x = np.exp(x - np.max(x))  # Subtract max for numerical stability\n",
    "        return e_x / e_x.sum()\n",
    "    z = z.apply(lambda row: softmax(row), axis=1)\n",
    "    plot_embedding_results([data_rna, data_pro], omics_names, z, w, save=False, show=True, size=350)"
   ],
   "outputs": [
    {
     "name": "stderr",
     "output_type": "stream",
     "text": [
      "/opt/anaconda3/envs/SpaMV/lib/python3.12/site-packages/tqdm/auto.py:21: TqdmWarning: IProgress not found. Please update jupyter and ipywidgets. See https://ipywidgets.readthedocs.io/en/stable/user_install.html\n",
      "  from .autonotebook import tqdm as notebook_tqdm\n",
      "/opt/anaconda3/envs/SpaMV/lib/python3.12/site-packages/dask/dataframe/__init__.py:31: FutureWarning: The legacy Dask DataFrame implementation is deprecated and will be removed in a future version. Set the configuration option `dataframe.query-planning` to `True` or None to enable the new Dask Dataframe implementation and silence this warning.\n",
      "  warnings.warn(\n",
      "/opt/anaconda3/envs/SpaMV/lib/python3.12/site-packages/xarray_schema/__init__.py:1: UserWarning: pkg_resources is deprecated as an API. See https://setuptools.pypa.io/en/latest/pkg_resources.html. The pkg_resources package is slated for removal as early as 2025-11-30. Refrain from using this package or pin to Setuptools<81.\n",
      "  from pkg_resources import DistributionNotFound, get_distribution\n",
      "/opt/anaconda3/envs/SpaMV/lib/python3.12/site-packages/numba/core/decorators.py:246: RuntimeWarning: nopython is set for njit and is ignored\n",
      "  warnings.warn('nopython is set for njit and is ignored', RuntimeWarning)\n"
     ]
    }
   ],
   "execution_count": null
  },
  {
   "metadata": {},
   "cell_type": "code",
   "source": "",
   "outputs": [],
   "execution_count": null
  }
 ],
 "metadata": {
  "kernelspec": {
   "display_name": "SpaMV",
   "language": "python",
   "name": "python3"
  },
  "language_info": {
   "codemirror_mode": {
    "name": "ipython",
    "version": 3
   },
   "file_extension": ".py",
   "mimetype": "text/x-python",
   "name": "python",
   "nbconvert_exporter": "python",
   "pygments_lexer": "ipython3",
   "version": "3.12.11"
  }
 },
 "nbformat": 4,
 "nbformat_minor": 2
}
